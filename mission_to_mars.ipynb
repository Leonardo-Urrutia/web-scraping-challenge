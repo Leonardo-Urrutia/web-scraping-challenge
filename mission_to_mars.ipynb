{
 "cells": [
  {
   "cell_type": "code",
   "execution_count": 1,
   "metadata": {},
   "outputs": [],
   "source": [
    "# Import BeautifulSoup\n",
    "from splinter import Browser\n",
    "from bs4 import BeautifulSoup as bs\n",
    "from pprint import pprint\n",
    "import pandas as pd\n",
    "import time"
   ]
  },
  {
   "cell_type": "code",
   "execution_count": 2,
   "metadata": {},
   "outputs": [],
   "source": [
    "def init_browser():\n",
    "    # @NOTE: Replace the path with your actual path to the chromedriver\n",
    "    executable_path = {\"executable_path\": \"../chromedriver.exe\"}\n",
    "    return Browser(\"chrome\", **executable_path, headless=False)"
   ]
  },
  {
   "cell_type": "code",
   "execution_count": 3,
   "metadata": {},
   "outputs": [],
   "source": [
    "browser = init_browser()\n"
   ]
  },
  {
   "cell_type": "code",
   "execution_count": 4,
   "metadata": {},
   "outputs": [],
   "source": [
    "url = \"https://mars.nasa.gov/news/\"\n",
    "browser.visit(url)\n",
    "\n",
    "time.sleep(1)\n",
    "# Scrape page into Soup\n",
    "html = browser.html\n",
    "soup = bs(html, \"html.parser\")"
   ]
  },
  {
   "cell_type": "code",
   "execution_count": 5,
   "metadata": {
    "scrolled": false
   },
   "outputs": [
    {
     "name": "stdout",
     "output_type": "stream",
     "text": [
      "<li class=\"slide\">\n",
      " <div class=\"image_and_description_container\">\n",
      "  <a href=\"/news/8819/nasa-moves-forward-with-campaign-to-return-mars-samples-to-earth/\" target=\"_self\">\n",
      "   <div class=\"rollover_description\">\n",
      "    <div class=\"rollover_description_inner\">\n",
      "     During this next phase, the program will mature critical technologies and make critical design decisions as well as assess industry partnerships.\n",
      "    </div>\n",
      "    <div class=\"overlay_arrow\">\n",
      "     <img alt=\"More\" src=\"/assets/overlay-arrow.png\"/>\n",
      "    </div>\n",
      "   </div>\n",
      "   <div class=\"list_image\">\n",
      "    <img alt=\"Illustration of Mars rover drilling\" src=\"/system/news_items/list_view_images/8819_24759_PIA23491-web.jpg\"/>\n",
      "   </div>\n",
      "   <div class=\"bottom_gradient\">\n",
      "    <div>\n",
      "     <h3>\n",
      "      NASA Moves Forward With Campaign to Return Mars Samples to Earth\n",
      "     </h3>\n",
      "    </div>\n",
      "   </div>\n",
      "  </a>\n",
      "  <div class=\"list_text\">\n",
      "   <div class=\"list_date\">\n",
      "    December 17, 2020\n",
      "   </div>\n",
      "   <div class=\"content_title\">\n",
      "    <a href=\"/news/8819/nasa-moves-forward-with-campaign-to-return-mars-samples-to-earth/\" target=\"_self\">\n",
      "     NASA Moves Forward With Campaign to Return Mars Samples to Earth\n",
      "    </a>\n",
      "   </div>\n",
      "   <div class=\"article_teaser_body\">\n",
      "    During this next phase, the program will mature critical technologies and make critical design decisions as well as assess industry partnerships.\n",
      "   </div>\n",
      "  </div>\n",
      " </div>\n",
      "</li>\n",
      "\n"
     ]
    }
   ],
   "source": [
    "first_news_results = soup.find(\"li\", class_=\"slide\")\n",
    "print(first_news_results.prettify())"
   ]
  },
  {
   "cell_type": "code",
   "execution_count": 6,
   "metadata": {},
   "outputs": [
    {
     "name": "stdout",
     "output_type": "stream",
     "text": [
      "NASA Moves Forward With Campaign to Return Mars Samples to Earth\n"
     ]
    }
   ],
   "source": [
    "content_title = first_news_results.find(\"div\", class_=\"content_title\").text\n",
    "print(content_title)"
   ]
  },
  {
   "cell_type": "code",
   "execution_count": 7,
   "metadata": {},
   "outputs": [
    {
     "data": {
      "text/plain": [
       "'During this next phase, the program will mature critical technologies and make critical design decisions as well as assess industry partnerships.'"
      ]
     },
     "execution_count": 7,
     "metadata": {},
     "output_type": "execute_result"
    }
   ],
   "source": [
    "first_article_p_txt = first_news_results.find(\"div\", class_=\"article_teaser_body\").text\n",
    "first_article_p_txt"
   ]
  },
  {
   "cell_type": "code",
   "execution_count": 8,
   "metadata": {},
   "outputs": [],
   "source": [
    "featured_image_url = 'https://www.jpl.nasa.gov/spaceimages/?search=&category=Mars'\n",
    "browser.visit(featured_image_url)\n",
    "\n",
    "time.sleep(1)\n",
    "# Scrape page into Soup\n",
    "html = browser.html\n",
    "soup = bs(html, \"html.parser\")\n"
   ]
  },
  {
   "cell_type": "code",
   "execution_count": 9,
   "metadata": {},
   "outputs": [
    {
     "name": "stdout",
     "output_type": "stream",
     "text": [
      "<div class=\"carousel_container\">\n",
      " <div class=\"carousel_items\">\n",
      "  <article alt=\"Making a Spectacle of Star Formation in Orion\" class=\"carousel_item\" style=\"background-image: url('/spaceimages/images/wallpaper/PIA14106-1920x1200.jpg');\">\n",
      "   <div class=\"default floating_text_area ms-layer\">\n",
      "    <h2 class=\"category_title\">\n",
      "    </h2>\n",
      "    <h2 class=\"brand_title\">\n",
      "     FEATURED IMAGE\n",
      "    </h2>\n",
      "    <h1 class=\"media_feature_title\">\n",
      "     Making a Spectacle of Star Formation in Orion\n",
      "    </h1>\n",
      "    <div class=\"description\">\n",
      "    </div>\n",
      "    <footer>\n",
      "     <a class=\"button fancybox\" data-description=\"NASA's Spitzer Space Telescope exposes the depths of this dusty nebula with its infrared vision, showing stellar infants that are lost behind dark clouds when viewed in visible light.\" data-fancybox-group=\"images\" data-fancybox-href=\"/spaceimages/images/mediumsize/PIA14106_ip.jpg\" data-link=\"/spaceimages/details.php?id=PIA14106\" data-title=\"Making a Spectacle of Star Formation in Orion\" id=\"full_image\">\n",
      "      FULL IMAGE\n",
      "     </a>\n",
      "    </footer>\n",
      "   </div>\n",
      "   <div class=\"gradient_container_top\">\n",
      "   </div>\n",
      "   <div class=\"gradient_container_bottom\">\n",
      "   </div>\n",
      "  </article>\n",
      " </div>\n",
      "</div>\n",
      "\n"
     ]
    }
   ],
   "source": [
    "featured_image_container  = soup.find(\"div\", class_=\"carousel_container\")\n",
    "print(featured_image_container.prettify())"
   ]
  },
  {
   "cell_type": "code",
   "execution_count": 10,
   "metadata": {},
   "outputs": [
    {
     "data": {
      "text/plain": [
       "'https://www.jpl.nasa.gov/spaceimages/images/mediumsize/PIA14106_ip.jpg'"
      ]
     },
     "execution_count": 10,
     "metadata": {},
     "output_type": "execute_result"
    }
   ],
   "source": [
    "featured_img_half_link = featured_image_container.find(\"a\", class_=\"button fancybox\")[\"data-fancybox-href\"]\n",
    "mars_url = 'https://www.jpl.nasa.gov'\n",
    "full_img_url = f'{mars_url}{featured_img_half_link}'\n",
    "full_img_url"
   ]
  },
  {
   "cell_type": "code",
   "execution_count": 11,
   "metadata": {},
   "outputs": [],
   "source": [
    "facts_url = \"https://space-facts.com/mars/\"\n",
    "facts_table_list = pd.read_html(facts_url)\n",
    "facts_table = facts_table_list[0].rename(columns={0: \"Description\", 1: \"Mars\"}).set_index(\"Description\")"
   ]
  },
  {
   "cell_type": "code",
   "execution_count": 12,
   "metadata": {},
   "outputs": [
    {
     "data": {
      "text/html": [
       "<div>\n",
       "<style scoped>\n",
       "    .dataframe tbody tr th:only-of-type {\n",
       "        vertical-align: middle;\n",
       "    }\n",
       "\n",
       "    .dataframe tbody tr th {\n",
       "        vertical-align: top;\n",
       "    }\n",
       "\n",
       "    .dataframe thead th {\n",
       "        text-align: right;\n",
       "    }\n",
       "</style>\n",
       "<table border=\"1\" class=\"dataframe\">\n",
       "  <thead>\n",
       "    <tr style=\"text-align: right;\">\n",
       "      <th></th>\n",
       "      <th>Mars</th>\n",
       "    </tr>\n",
       "    <tr>\n",
       "      <th>Description</th>\n",
       "      <th></th>\n",
       "    </tr>\n",
       "  </thead>\n",
       "  <tbody>\n",
       "    <tr>\n",
       "      <th>Equatorial Diameter:</th>\n",
       "      <td>6,792 km</td>\n",
       "    </tr>\n",
       "    <tr>\n",
       "      <th>Polar Diameter:</th>\n",
       "      <td>6,752 km</td>\n",
       "    </tr>\n",
       "    <tr>\n",
       "      <th>Mass:</th>\n",
       "      <td>6.39 × 10^23 kg (0.11 Earths)</td>\n",
       "    </tr>\n",
       "    <tr>\n",
       "      <th>Moons:</th>\n",
       "      <td>2 (Phobos &amp; Deimos)</td>\n",
       "    </tr>\n",
       "    <tr>\n",
       "      <th>Orbit Distance:</th>\n",
       "      <td>227,943,824 km (1.38 AU)</td>\n",
       "    </tr>\n",
       "    <tr>\n",
       "      <th>Orbit Period:</th>\n",
       "      <td>687 days (1.9 years)</td>\n",
       "    </tr>\n",
       "    <tr>\n",
       "      <th>Surface Temperature:</th>\n",
       "      <td>-87 to -5 °C</td>\n",
       "    </tr>\n",
       "    <tr>\n",
       "      <th>First Record:</th>\n",
       "      <td>2nd millennium BC</td>\n",
       "    </tr>\n",
       "    <tr>\n",
       "      <th>Recorded By:</th>\n",
       "      <td>Egyptian astronomers</td>\n",
       "    </tr>\n",
       "  </tbody>\n",
       "</table>\n",
       "</div>"
      ],
      "text/plain": [
       "                                               Mars\n",
       "Description                                        \n",
       "Equatorial Diameter:                       6,792 km\n",
       "Polar Diameter:                            6,752 km\n",
       "Mass:                 6.39 × 10^23 kg (0.11 Earths)\n",
       "Moons:                          2 (Phobos & Deimos)\n",
       "Orbit Distance:            227,943,824 km (1.38 AU)\n",
       "Orbit Period:                  687 days (1.9 years)\n",
       "Surface Temperature:                   -87 to -5 °C\n",
       "First Record:                     2nd millennium BC\n",
       "Recorded By:                   Egyptian astronomers"
      ]
     },
     "execution_count": 12,
     "metadata": {},
     "output_type": "execute_result"
    }
   ],
   "source": [
    "facts_table"
   ]
  },
  {
   "cell_type": "code",
   "execution_count": 13,
   "metadata": {},
   "outputs": [],
   "source": [
    "facts_table.to_html('output_data/table.html')"
   ]
  },
  {
   "cell_type": "code",
   "execution_count": 14,
   "metadata": {},
   "outputs": [],
   "source": [
    "hemi_url = \"https://astrogeology.usgs.gov/search/results?q=hemisphere+enhanced&k1=target&v1=Mars\"\n",
    "hemi_base_url = \"https://astrogeology.usgs.gov\"\n",
    "hemisphere_image_urls = []\n",
    "browser.visit(hemi_url)\n",
    "\n",
    "time.sleep(1)\n",
    "# Scrape page into Soup"
   ]
  },
  {
   "cell_type": "code",
   "execution_count": 15,
   "metadata": {},
   "outputs": [],
   "source": [
    "browser.links.find_by_partial_text('Cerberus').click()\n",
    "html = browser.html\n",
    "soup = bs(html, \"html.parser\")\n",
    "cerb_img = soup.find(\"img\", class_=\"wide-image\")[\"src\"]\n",
    "hemi_base_url = \"https://astrogeology.usgs.gov\"\n",
    "full_cerb_img = f\"{hemi_base_url}{cerb_img}\"\n",
    "hemi_dict = {\"title\": \"Cerberus Hemisphere\", \"img_url\": full_cerb_img}\n",
    "hemisphere_image_urls.append(hemi_dict)\n",
    "browser.visit(hemi_url)"
   ]
  },
  {
   "cell_type": "code",
   "execution_count": 16,
   "metadata": {},
   "outputs": [],
   "source": [
    "browser.links.find_by_partial_text('Schiaparelli').click()\n",
    "html = browser.html\n",
    "soup = bs(html, \"html.parser\")\n",
    "schia_img = soup.find(\"img\", class_=\"wide-image\")[\"src\"]\n",
    "full_schia_img = f\"{hemi_base_url}{schia_img}\"\n",
    "hemi_dict = {\"title\": \"Schiaparelli Hemisphere\", \"img_url\": full_schia_img}\n",
    "hemisphere_image_urls.append(hemi_dict)\n",
    "browser.visit(hemi_url)"
   ]
  },
  {
   "cell_type": "code",
   "execution_count": 17,
   "metadata": {},
   "outputs": [],
   "source": [
    "browser.links.find_by_partial_text('Syrtis Major').click()\n",
    "html = browser.html\n",
    "soup = bs(html, \"html.parser\")\n",
    "syrtis_img = soup.find(\"img\", class_=\"wide-image\")[\"src\"]\n",
    "full_syrtis_img = f\"{hemi_base_url}{syrtis_img}\"\n",
    "hemi_dict = {\"title\": \"Syrtis Major Hemisphere\", \"img_url\": full_syrtis_img}\n",
    "hemisphere_image_urls.append(hemi_dict)\n",
    "browser.visit(hemi_url)"
   ]
  },
  {
   "cell_type": "code",
   "execution_count": 18,
   "metadata": {},
   "outputs": [],
   "source": [
    "browser.links.find_by_partial_text('Valles Marineris').click()\n",
    "html = browser.html\n",
    "soup = bs(html, \"html.parser\")\n",
    "valles_img = soup.find(\"img\", class_=\"wide-image\")[\"src\"]\n",
    "full_valles_img = f\"{hemi_base_url}{valles_img}\"\n",
    "hemi_dict = {\"title\": \"Valles Marineris Hemisphere\", \"img_url\": full_valles_img}\n",
    "hemisphere_image_urls.append(hemi_dict)\n",
    "browser.visit(hemi_url)"
   ]
  },
  {
   "cell_type": "code",
   "execution_count": 19,
   "metadata": {},
   "outputs": [
    {
     "data": {
      "text/plain": [
       "[{'title': 'Cerberus Hemisphere',\n",
       "  'img_url': 'https://astrogeology.usgs.gov/cache/images/f5e372a36edfa389625da6d0cc25d905_cerberus_enhanced.tif_full.jpg'},\n",
       " {'title': 'Schiaparelli Hemisphere',\n",
       "  'img_url': 'https://astrogeology.usgs.gov/cache/images/3778f7b43bbbc89d6e3cfabb3613ba93_schiaparelli_enhanced.tif_full.jpg'},\n",
       " {'title': 'Syrtis Major Hemisphere',\n",
       "  'img_url': 'https://astrogeology.usgs.gov/cache/images/555e6403a6ddd7ba16ddb0e471cadcf7_syrtis_major_enhanced.tif_full.jpg'},\n",
       " {'title': 'Valles Marineris Hemisphere',\n",
       "  'img_url': 'https://astrogeology.usgs.gov/cache/images/b3c7c6c9138f57b4756be9b9c43e3a48_valles_marineris_enhanced.tif_full.jpg'}]"
      ]
     },
     "execution_count": 19,
     "metadata": {},
     "output_type": "execute_result"
    }
   ],
   "source": [
    "hemisphere_image_urls"
   ]
  },
  {
   "cell_type": "code",
   "execution_count": null,
   "metadata": {},
   "outputs": [],
   "source": []
  }
 ],
 "metadata": {
  "kernelspec": {
   "display_name": "Python 3",
   "language": "python",
   "name": "python3"
  },
  "language_info": {
   "codemirror_mode": {
    "name": "ipython",
    "version": 3
   },
   "file_extension": ".py",
   "mimetype": "text/x-python",
   "name": "python",
   "nbconvert_exporter": "python",
   "pygments_lexer": "ipython3",
   "version": "3.6.10"
  }
 },
 "nbformat": 4,
 "nbformat_minor": 4
}
